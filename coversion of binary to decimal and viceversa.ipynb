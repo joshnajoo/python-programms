{
 "cells": [
  {
   "cell_type": "code",
   "execution_count": null,
   "metadata": {},
   "outputs": [
    {
     "name": "stdout",
     "output_type": "stream",
     "text": [
      "\n",
      "choose an option:\n",
      " 1.decimal to binary\n",
      " 2.binary to decimal\n",
      " \n"
     ]
    },
    {
     "ename": "ValueError",
     "evalue": "invalid literal for int() with base 10: ''",
     "output_type": "error",
     "traceback": [
      "\u001b[1;31m---------------------------------------------------------------------------\u001b[0m",
      "\u001b[1;31mValueError\u001b[0m                                Traceback (most recent call last)",
      "Cell \u001b[1;32mIn [1], line 6\u001b[0m\n\u001b[0;32m      1\u001b[0m \u001b[39mprint\u001b[39m(\u001b[39m\"\"\"\u001b[39m\n\u001b[0;32m      2\u001b[0m \u001b[39mchoose an option:\u001b[39m\n\u001b[0;32m      3\u001b[0m \u001b[39m 1.decimal to binary\u001b[39m\n\u001b[0;32m      4\u001b[0m \u001b[39m 2.binary to decimal\u001b[39m\n\u001b[0;32m      5\u001b[0m \u001b[39m \u001b[39m\u001b[39m\"\"\"\u001b[39m)\n\u001b[1;32m----> 6\u001b[0m option\u001b[39m=\u001b[39m \u001b[39mint\u001b[39m(\u001b[39minput\u001b[39m(\u001b[39m\"\u001b[39m\u001b[39menter a number:\u001b[39m\u001b[39m\"\u001b[39m)) \n\u001b[0;32m      7\u001b[0m \u001b[39mprint\u001b[39m (option)\n\u001b[0;32m      8\u001b[0m \u001b[39mif\u001b[39;00m(option\u001b[39m==\u001b[39m\u001b[39m1\u001b[39m):\n",
      "\u001b[1;31mValueError\u001b[0m: invalid literal for int() with base 10: ''"
     ]
    }
   ],
   "source": [
    "print(\"\"\"\n",
    "choose an option:\n",
    " 1.decimal to binary\n",
    " 2.binary to decimal\n",
    " \"\"\")\n",
    "option= int(input(\"enter a number:\")) \n",
    "print (option)\n",
    "if(option==1):\n",
    " n=int(input(\"enter a number:\"))\n",
    " print(n)\n",
    " binary = format(n,'b')\n",
    " print(binary) # Output: '100'\n",
    "if(option==2):\n",
    " binary= int(input(\"enter a number:\"))\n",
    " print(binary)\n",
    " decimal = int(binary, 2)\n",
    " print(decimal) # Output: 4\n"
   ]
  }
 ],
 "metadata": {
  "kernelspec": {
   "display_name": "Python 3",
   "language": "python",
   "name": "python3"
  },
  "language_info": {
   "codemirror_mode": {
    "name": "ipython",
    "version": 3
   },
   "file_extension": ".py",
   "mimetype": "text/x-python",
   "name": "python",
   "nbconvert_exporter": "python",
   "pygments_lexer": "ipython3",
   "version": "3.11.1 (tags/v3.11.1:a7a450f, Dec  6 2022, 19:58:39) [MSC v.1934 64 bit (AMD64)]"
  },
  "orig_nbformat": 4,
  "vscode": {
   "interpreter": {
    "hash": "929d8c82b0c3d9526bc12a4d9bee61601bcebeb757b444bc9bfffca11057d8b8"
   }
  }
 },
 "nbformat": 4,
 "nbformat_minor": 2
}
